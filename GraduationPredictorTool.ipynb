{
 "cells": [
  {
   "cell_type": "markdown",
   "metadata": {},
   "source": [
    "# Eric Hubicka\n",
    "Western Governors University\n",
    "Capstone C964 Project"
   ]
  },
  {
   "cell_type": "markdown",
   "metadata": {},
   "source": [
    "### Import the Necessary Libraries"
   ]
  },
  {
   "cell_type": "code",
   "execution_count": 1,
   "metadata": {},
   "outputs": [],
   "source": [
    "import pandas as pd #import pandas for data maniuplation \n",
    "import numpy as np #import numpy for support of multi-dimensional arrays\n",
    "import matplotlib.pyplot as plt #import the matplotlib library to utilize matplotlib visualizations\n",
    "import seaborn as sns #import the seaborn library to utilize seaborn visualizations\n",
    "import ipywidgets as widgets #for the user input section\n",
    "import ipywidgets as interact #for the user input section\n",
    "#to see visualizations in juypter notebook\n",
    "%matplotlib inline"
   ]
  },
  {
   "cell_type": "markdown",
   "metadata": {},
   "source": [
    "### Read the Dataset"
   ]
  },
  {
   "cell_type": "code",
   "execution_count": 2,
   "metadata": {},
   "outputs": [],
   "source": [
    "data = pd.read_csv('dataset.csv') #using pandas read in the dataset csv file into the data variable"
   ]
  },
  {
   "cell_type": "markdown",
   "metadata": {},
   "source": [
    "### Review the Dataset"
   ]
  },
  {
   "cell_type": "code",
   "execution_count": 3,
   "metadata": {},
   "outputs": [
    {
     "data": {
      "text/html": [
       "<div>\n",
       "<style scoped>\n",
       "    .dataframe tbody tr th:only-of-type {\n",
       "        vertical-align: middle;\n",
       "    }\n",
       "\n",
       "    .dataframe tbody tr th {\n",
       "        vertical-align: top;\n",
       "    }\n",
       "\n",
       "    .dataframe thead th {\n",
       "        text-align: right;\n",
       "    }\n",
       "</style>\n",
       "<table border=\"1\" class=\"dataframe\">\n",
       "  <thead>\n",
       "    <tr style=\"text-align: right;\">\n",
       "      <th></th>\n",
       "      <th>Marital status</th>\n",
       "      <th>Application mode</th>\n",
       "      <th>Application order</th>\n",
       "      <th>Course</th>\n",
       "      <th>Daytime/evening attendance</th>\n",
       "      <th>Previous qualification</th>\n",
       "      <th>Nationality</th>\n",
       "      <th>Mother's qualification</th>\n",
       "      <th>Father's qualification</th>\n",
       "      <th>Mother's occupation</th>\n",
       "      <th>...</th>\n",
       "      <th>Curricular units 2nd sem (credited)</th>\n",
       "      <th>Curricular units 2nd sem (enrolled)</th>\n",
       "      <th>Curricular units 2nd sem (evaluations)</th>\n",
       "      <th>Curricular units 2nd sem (approved)</th>\n",
       "      <th>Curricular units 2nd sem (grade)</th>\n",
       "      <th>Curricular units 2nd sem (without evaluations)</th>\n",
       "      <th>Unemployment rate</th>\n",
       "      <th>Inflation rate</th>\n",
       "      <th>GDP</th>\n",
       "      <th>Target</th>\n",
       "    </tr>\n",
       "  </thead>\n",
       "  <tbody>\n",
       "    <tr>\n",
       "      <th>0</th>\n",
       "      <td>1</td>\n",
       "      <td>8</td>\n",
       "      <td>5</td>\n",
       "      <td>2</td>\n",
       "      <td>1</td>\n",
       "      <td>1</td>\n",
       "      <td>1</td>\n",
       "      <td>13</td>\n",
       "      <td>10</td>\n",
       "      <td>6</td>\n",
       "      <td>...</td>\n",
       "      <td>0</td>\n",
       "      <td>0</td>\n",
       "      <td>0</td>\n",
       "      <td>0</td>\n",
       "      <td>0.000000</td>\n",
       "      <td>0</td>\n",
       "      <td>10.8</td>\n",
       "      <td>1.4</td>\n",
       "      <td>1.74</td>\n",
       "      <td>Dropout</td>\n",
       "    </tr>\n",
       "    <tr>\n",
       "      <th>1</th>\n",
       "      <td>1</td>\n",
       "      <td>6</td>\n",
       "      <td>1</td>\n",
       "      <td>11</td>\n",
       "      <td>1</td>\n",
       "      <td>1</td>\n",
       "      <td>1</td>\n",
       "      <td>1</td>\n",
       "      <td>3</td>\n",
       "      <td>4</td>\n",
       "      <td>...</td>\n",
       "      <td>0</td>\n",
       "      <td>6</td>\n",
       "      <td>6</td>\n",
       "      <td>6</td>\n",
       "      <td>13.666667</td>\n",
       "      <td>0</td>\n",
       "      <td>13.9</td>\n",
       "      <td>-0.3</td>\n",
       "      <td>0.79</td>\n",
       "      <td>Graduate</td>\n",
       "    </tr>\n",
       "    <tr>\n",
       "      <th>2</th>\n",
       "      <td>1</td>\n",
       "      <td>1</td>\n",
       "      <td>5</td>\n",
       "      <td>5</td>\n",
       "      <td>1</td>\n",
       "      <td>1</td>\n",
       "      <td>1</td>\n",
       "      <td>22</td>\n",
       "      <td>27</td>\n",
       "      <td>10</td>\n",
       "      <td>...</td>\n",
       "      <td>0</td>\n",
       "      <td>6</td>\n",
       "      <td>0</td>\n",
       "      <td>0</td>\n",
       "      <td>0.000000</td>\n",
       "      <td>0</td>\n",
       "      <td>10.8</td>\n",
       "      <td>1.4</td>\n",
       "      <td>1.74</td>\n",
       "      <td>Dropout</td>\n",
       "    </tr>\n",
       "    <tr>\n",
       "      <th>3</th>\n",
       "      <td>1</td>\n",
       "      <td>8</td>\n",
       "      <td>2</td>\n",
       "      <td>15</td>\n",
       "      <td>1</td>\n",
       "      <td>1</td>\n",
       "      <td>1</td>\n",
       "      <td>23</td>\n",
       "      <td>27</td>\n",
       "      <td>6</td>\n",
       "      <td>...</td>\n",
       "      <td>0</td>\n",
       "      <td>6</td>\n",
       "      <td>10</td>\n",
       "      <td>5</td>\n",
       "      <td>12.400000</td>\n",
       "      <td>0</td>\n",
       "      <td>9.4</td>\n",
       "      <td>-0.8</td>\n",
       "      <td>-3.12</td>\n",
       "      <td>Graduate</td>\n",
       "    </tr>\n",
       "    <tr>\n",
       "      <th>4</th>\n",
       "      <td>2</td>\n",
       "      <td>12</td>\n",
       "      <td>1</td>\n",
       "      <td>3</td>\n",
       "      <td>0</td>\n",
       "      <td>1</td>\n",
       "      <td>1</td>\n",
       "      <td>22</td>\n",
       "      <td>28</td>\n",
       "      <td>10</td>\n",
       "      <td>...</td>\n",
       "      <td>0</td>\n",
       "      <td>6</td>\n",
       "      <td>6</td>\n",
       "      <td>6</td>\n",
       "      <td>13.000000</td>\n",
       "      <td>0</td>\n",
       "      <td>13.9</td>\n",
       "      <td>-0.3</td>\n",
       "      <td>0.79</td>\n",
       "      <td>Graduate</td>\n",
       "    </tr>\n",
       "  </tbody>\n",
       "</table>\n",
       "<p>5 rows × 35 columns</p>\n",
       "</div>"
      ],
      "text/plain": [
       "   Marital status  Application mode  Application order  Course  \\\n",
       "0               1                 8                  5       2   \n",
       "1               1                 6                  1      11   \n",
       "2               1                 1                  5       5   \n",
       "3               1                 8                  2      15   \n",
       "4               2                12                  1       3   \n",
       "\n",
       "   Daytime/evening attendance  Previous qualification  Nationality  \\\n",
       "0                           1                       1            1   \n",
       "1                           1                       1            1   \n",
       "2                           1                       1            1   \n",
       "3                           1                       1            1   \n",
       "4                           0                       1            1   \n",
       "\n",
       "   Mother's qualification  Father's qualification  Mother's occupation  ...  \\\n",
       "0                      13                      10                    6  ...   \n",
       "1                       1                       3                    4  ...   \n",
       "2                      22                      27                   10  ...   \n",
       "3                      23                      27                    6  ...   \n",
       "4                      22                      28                   10  ...   \n",
       "\n",
       "   Curricular units 2nd sem (credited)  Curricular units 2nd sem (enrolled)  \\\n",
       "0                                    0                                    0   \n",
       "1                                    0                                    6   \n",
       "2                                    0                                    6   \n",
       "3                                    0                                    6   \n",
       "4                                    0                                    6   \n",
       "\n",
       "   Curricular units 2nd sem (evaluations)  \\\n",
       "0                                       0   \n",
       "1                                       6   \n",
       "2                                       0   \n",
       "3                                      10   \n",
       "4                                       6   \n",
       "\n",
       "   Curricular units 2nd sem (approved)  Curricular units 2nd sem (grade)  \\\n",
       "0                                    0                          0.000000   \n",
       "1                                    6                         13.666667   \n",
       "2                                    0                          0.000000   \n",
       "3                                    5                         12.400000   \n",
       "4                                    6                         13.000000   \n",
       "\n",
       "   Curricular units 2nd sem (without evaluations)  Unemployment rate  \\\n",
       "0                                               0               10.8   \n",
       "1                                               0               13.9   \n",
       "2                                               0               10.8   \n",
       "3                                               0                9.4   \n",
       "4                                               0               13.9   \n",
       "\n",
       "   Inflation rate   GDP    Target  \n",
       "0             1.4  1.74   Dropout  \n",
       "1            -0.3  0.79  Graduate  \n",
       "2             1.4  1.74   Dropout  \n",
       "3            -0.8 -3.12  Graduate  \n",
       "4            -0.3  0.79  Graduate  \n",
       "\n",
       "[5 rows x 35 columns]"
      ]
     },
     "execution_count": 3,
     "metadata": {},
     "output_type": "execute_result"
    }
   ],
   "source": [
    "data.head() #peek at the top 5 rows of the data dataframe"
   ]
  },
  {
   "cell_type": "code",
   "execution_count": 4,
   "metadata": {
    "scrolled": false
   },
   "outputs": [
    {
     "data": {
      "text/html": [
       "<div>\n",
       "<style scoped>\n",
       "    .dataframe tbody tr th:only-of-type {\n",
       "        vertical-align: middle;\n",
       "    }\n",
       "\n",
       "    .dataframe tbody tr th {\n",
       "        vertical-align: top;\n",
       "    }\n",
       "\n",
       "    .dataframe thead th {\n",
       "        text-align: right;\n",
       "    }\n",
       "</style>\n",
       "<table border=\"1\" class=\"dataframe\">\n",
       "  <thead>\n",
       "    <tr style=\"text-align: right;\">\n",
       "      <th></th>\n",
       "      <th>Marital status</th>\n",
       "      <th>Application mode</th>\n",
       "      <th>Application order</th>\n",
       "      <th>Course</th>\n",
       "      <th>Daytime/evening attendance</th>\n",
       "      <th>Previous qualification</th>\n",
       "      <th>Nationality</th>\n",
       "      <th>Mother's qualification</th>\n",
       "      <th>Father's qualification</th>\n",
       "      <th>Mother's occupation</th>\n",
       "      <th>...</th>\n",
       "      <th>Curricular units 1st sem (without evaluations)</th>\n",
       "      <th>Curricular units 2nd sem (credited)</th>\n",
       "      <th>Curricular units 2nd sem (enrolled)</th>\n",
       "      <th>Curricular units 2nd sem (evaluations)</th>\n",
       "      <th>Curricular units 2nd sem (approved)</th>\n",
       "      <th>Curricular units 2nd sem (grade)</th>\n",
       "      <th>Curricular units 2nd sem (without evaluations)</th>\n",
       "      <th>Unemployment rate</th>\n",
       "      <th>Inflation rate</th>\n",
       "      <th>GDP</th>\n",
       "    </tr>\n",
       "  </thead>\n",
       "  <tbody>\n",
       "    <tr>\n",
       "      <th>count</th>\n",
       "      <td>3615.000000</td>\n",
       "      <td>3615.000000</td>\n",
       "      <td>3615.000000</td>\n",
       "      <td>3615.000000</td>\n",
       "      <td>3615.000000</td>\n",
       "      <td>3615.000000</td>\n",
       "      <td>3615.000000</td>\n",
       "      <td>3615.000000</td>\n",
       "      <td>3615.000000</td>\n",
       "      <td>3615.000000</td>\n",
       "      <td>...</td>\n",
       "      <td>3615.000000</td>\n",
       "      <td>3615.000000</td>\n",
       "      <td>3615.000000</td>\n",
       "      <td>3615.000000</td>\n",
       "      <td>3615.000000</td>\n",
       "      <td>3615.000000</td>\n",
       "      <td>3615.000000</td>\n",
       "      <td>3615.000000</td>\n",
       "      <td>3615.000000</td>\n",
       "      <td>3615.000000</td>\n",
       "    </tr>\n",
       "    <tr>\n",
       "      <th>mean</th>\n",
       "      <td>1.183956</td>\n",
       "      <td>6.817151</td>\n",
       "      <td>1.752697</td>\n",
       "      <td>9.934163</td>\n",
       "      <td>0.887137</td>\n",
       "      <td>2.558230</td>\n",
       "      <td>1.225173</td>\n",
       "      <td>12.546611</td>\n",
       "      <td>16.650069</td>\n",
       "      <td>7.219364</td>\n",
       "      <td>...</td>\n",
       "      <td>0.129184</td>\n",
       "      <td>0.569571</td>\n",
       "      <td>6.287414</td>\n",
       "      <td>7.756846</td>\n",
       "      <td>4.508990</td>\n",
       "      <td>10.032103</td>\n",
       "      <td>0.142739</td>\n",
       "      <td>11.633278</td>\n",
       "      <td>1.231093</td>\n",
       "      <td>-0.005997</td>\n",
       "    </tr>\n",
       "    <tr>\n",
       "      <th>std</th>\n",
       "      <td>0.612241</td>\n",
       "      <td>5.261090</td>\n",
       "      <td>1.335824</td>\n",
       "      <td>4.342565</td>\n",
       "      <td>0.316469</td>\n",
       "      <td>3.959587</td>\n",
       "      <td>1.661497</td>\n",
       "      <td>9.010231</td>\n",
       "      <td>10.994469</td>\n",
       "      <td>3.707075</td>\n",
       "      <td>...</td>\n",
       "      <td>0.680317</td>\n",
       "      <td>1.990865</td>\n",
       "      <td>2.247693</td>\n",
       "      <td>3.955874</td>\n",
       "      <td>3.153579</td>\n",
       "      <td>5.485304</td>\n",
       "      <td>0.749164</td>\n",
       "      <td>2.669367</td>\n",
       "      <td>1.383537</td>\n",
       "      <td>2.259738</td>\n",
       "    </tr>\n",
       "    <tr>\n",
       "      <th>min</th>\n",
       "      <td>1.000000</td>\n",
       "      <td>1.000000</td>\n",
       "      <td>0.000000</td>\n",
       "      <td>1.000000</td>\n",
       "      <td>0.000000</td>\n",
       "      <td>1.000000</td>\n",
       "      <td>1.000000</td>\n",
       "      <td>1.000000</td>\n",
       "      <td>1.000000</td>\n",
       "      <td>1.000000</td>\n",
       "      <td>...</td>\n",
       "      <td>0.000000</td>\n",
       "      <td>0.000000</td>\n",
       "      <td>0.000000</td>\n",
       "      <td>0.000000</td>\n",
       "      <td>0.000000</td>\n",
       "      <td>0.000000</td>\n",
       "      <td>0.000000</td>\n",
       "      <td>7.600000</td>\n",
       "      <td>-0.800000</td>\n",
       "      <td>-4.060000</td>\n",
       "    </tr>\n",
       "    <tr>\n",
       "      <th>25%</th>\n",
       "      <td>1.000000</td>\n",
       "      <td>1.000000</td>\n",
       "      <td>1.000000</td>\n",
       "      <td>6.000000</td>\n",
       "      <td>1.000000</td>\n",
       "      <td>1.000000</td>\n",
       "      <td>1.000000</td>\n",
       "      <td>2.000000</td>\n",
       "      <td>3.000000</td>\n",
       "      <td>5.000000</td>\n",
       "      <td>...</td>\n",
       "      <td>0.000000</td>\n",
       "      <td>0.000000</td>\n",
       "      <td>5.000000</td>\n",
       "      <td>6.000000</td>\n",
       "      <td>2.000000</td>\n",
       "      <td>10.500000</td>\n",
       "      <td>0.000000</td>\n",
       "      <td>9.400000</td>\n",
       "      <td>0.300000</td>\n",
       "      <td>-1.700000</td>\n",
       "    </tr>\n",
       "    <tr>\n",
       "      <th>50%</th>\n",
       "      <td>1.000000</td>\n",
       "      <td>8.000000</td>\n",
       "      <td>1.000000</td>\n",
       "      <td>11.000000</td>\n",
       "      <td>1.000000</td>\n",
       "      <td>1.000000</td>\n",
       "      <td>1.000000</td>\n",
       "      <td>13.000000</td>\n",
       "      <td>14.000000</td>\n",
       "      <td>6.000000</td>\n",
       "      <td>...</td>\n",
       "      <td>0.000000</td>\n",
       "      <td>0.000000</td>\n",
       "      <td>6.000000</td>\n",
       "      <td>8.000000</td>\n",
       "      <td>5.000000</td>\n",
       "      <td>12.333333</td>\n",
       "      <td>0.000000</td>\n",
       "      <td>11.100000</td>\n",
       "      <td>1.400000</td>\n",
       "      <td>0.320000</td>\n",
       "    </tr>\n",
       "    <tr>\n",
       "      <th>75%</th>\n",
       "      <td>1.000000</td>\n",
       "      <td>12.000000</td>\n",
       "      <td>2.000000</td>\n",
       "      <td>13.000000</td>\n",
       "      <td>1.000000</td>\n",
       "      <td>1.000000</td>\n",
       "      <td>1.000000</td>\n",
       "      <td>22.000000</td>\n",
       "      <td>27.000000</td>\n",
       "      <td>10.000000</td>\n",
       "      <td>...</td>\n",
       "      <td>0.000000</td>\n",
       "      <td>0.000000</td>\n",
       "      <td>7.000000</td>\n",
       "      <td>10.000000</td>\n",
       "      <td>6.000000</td>\n",
       "      <td>13.500000</td>\n",
       "      <td>0.000000</td>\n",
       "      <td>13.900000</td>\n",
       "      <td>2.600000</td>\n",
       "      <td>1.790000</td>\n",
       "    </tr>\n",
       "    <tr>\n",
       "      <th>max</th>\n",
       "      <td>6.000000</td>\n",
       "      <td>18.000000</td>\n",
       "      <td>6.000000</td>\n",
       "      <td>17.000000</td>\n",
       "      <td>1.000000</td>\n",
       "      <td>17.000000</td>\n",
       "      <td>21.000000</td>\n",
       "      <td>29.000000</td>\n",
       "      <td>34.000000</td>\n",
       "      <td>32.000000</td>\n",
       "      <td>...</td>\n",
       "      <td>12.000000</td>\n",
       "      <td>19.000000</td>\n",
       "      <td>23.000000</td>\n",
       "      <td>33.000000</td>\n",
       "      <td>20.000000</td>\n",
       "      <td>18.571429</td>\n",
       "      <td>12.000000</td>\n",
       "      <td>16.200000</td>\n",
       "      <td>3.700000</td>\n",
       "      <td>3.510000</td>\n",
       "    </tr>\n",
       "  </tbody>\n",
       "</table>\n",
       "<p>8 rows × 34 columns</p>\n",
       "</div>"
      ],
      "text/plain": [
       "       Marital status  Application mode  Application order       Course  \\\n",
       "count     3615.000000       3615.000000        3615.000000  3615.000000   \n",
       "mean         1.183956          6.817151           1.752697     9.934163   \n",
       "std          0.612241          5.261090           1.335824     4.342565   \n",
       "min          1.000000          1.000000           0.000000     1.000000   \n",
       "25%          1.000000          1.000000           1.000000     6.000000   \n",
       "50%          1.000000          8.000000           1.000000    11.000000   \n",
       "75%          1.000000         12.000000           2.000000    13.000000   \n",
       "max          6.000000         18.000000           6.000000    17.000000   \n",
       "\n",
       "       Daytime/evening attendance  Previous qualification  Nationality  \\\n",
       "count                 3615.000000             3615.000000  3615.000000   \n",
       "mean                     0.887137                2.558230     1.225173   \n",
       "std                      0.316469                3.959587     1.661497   \n",
       "min                      0.000000                1.000000     1.000000   \n",
       "25%                      1.000000                1.000000     1.000000   \n",
       "50%                      1.000000                1.000000     1.000000   \n",
       "75%                      1.000000                1.000000     1.000000   \n",
       "max                      1.000000               17.000000    21.000000   \n",
       "\n",
       "       Mother's qualification  Father's qualification  Mother's occupation  \\\n",
       "count             3615.000000             3615.000000          3615.000000   \n",
       "mean                12.546611               16.650069             7.219364   \n",
       "std                  9.010231               10.994469             3.707075   \n",
       "min                  1.000000                1.000000             1.000000   \n",
       "25%                  2.000000                3.000000             5.000000   \n",
       "50%                 13.000000               14.000000             6.000000   \n",
       "75%                 22.000000               27.000000            10.000000   \n",
       "max                 29.000000               34.000000            32.000000   \n",
       "\n",
       "       ...  Curricular units 1st sem (without evaluations)  \\\n",
       "count  ...                                     3615.000000   \n",
       "mean   ...                                        0.129184   \n",
       "std    ...                                        0.680317   \n",
       "min    ...                                        0.000000   \n",
       "25%    ...                                        0.000000   \n",
       "50%    ...                                        0.000000   \n",
       "75%    ...                                        0.000000   \n",
       "max    ...                                       12.000000   \n",
       "\n",
       "       Curricular units 2nd sem (credited)  \\\n",
       "count                          3615.000000   \n",
       "mean                              0.569571   \n",
       "std                               1.990865   \n",
       "min                               0.000000   \n",
       "25%                               0.000000   \n",
       "50%                               0.000000   \n",
       "75%                               0.000000   \n",
       "max                              19.000000   \n",
       "\n",
       "       Curricular units 2nd sem (enrolled)  \\\n",
       "count                          3615.000000   \n",
       "mean                              6.287414   \n",
       "std                               2.247693   \n",
       "min                               0.000000   \n",
       "25%                               5.000000   \n",
       "50%                               6.000000   \n",
       "75%                               7.000000   \n",
       "max                              23.000000   \n",
       "\n",
       "       Curricular units 2nd sem (evaluations)  \\\n",
       "count                             3615.000000   \n",
       "mean                                 7.756846   \n",
       "std                                  3.955874   \n",
       "min                                  0.000000   \n",
       "25%                                  6.000000   \n",
       "50%                                  8.000000   \n",
       "75%                                 10.000000   \n",
       "max                                 33.000000   \n",
       "\n",
       "       Curricular units 2nd sem (approved)  Curricular units 2nd sem (grade)  \\\n",
       "count                          3615.000000                       3615.000000   \n",
       "mean                              4.508990                         10.032103   \n",
       "std                               3.153579                          5.485304   \n",
       "min                               0.000000                          0.000000   \n",
       "25%                               2.000000                         10.500000   \n",
       "50%                               5.000000                         12.333333   \n",
       "75%                               6.000000                         13.500000   \n",
       "max                              20.000000                         18.571429   \n",
       "\n",
       "       Curricular units 2nd sem (without evaluations)  Unemployment rate  \\\n",
       "count                                     3615.000000        3615.000000   \n",
       "mean                                         0.142739          11.633278   \n",
       "std                                          0.749164           2.669367   \n",
       "min                                          0.000000           7.600000   \n",
       "25%                                          0.000000           9.400000   \n",
       "50%                                          0.000000          11.100000   \n",
       "75%                                          0.000000          13.900000   \n",
       "max                                         12.000000          16.200000   \n",
       "\n",
       "       Inflation rate          GDP  \n",
       "count     3615.000000  3615.000000  \n",
       "mean         1.231093    -0.005997  \n",
       "std          1.383537     2.259738  \n",
       "min         -0.800000    -4.060000  \n",
       "25%          0.300000    -1.700000  \n",
       "50%          1.400000     0.320000  \n",
       "75%          2.600000     1.790000  \n",
       "max          3.700000     3.510000  \n",
       "\n",
       "[8 rows x 34 columns]"
      ]
     },
     "execution_count": 4,
     "metadata": {},
     "output_type": "execute_result"
    }
   ],
   "source": [
    "data.describe() #get a quick analysis of the data columns"
   ]
  },
  {
   "cell_type": "code",
   "execution_count": 5,
   "metadata": {
    "scrolled": false
   },
   "outputs": [
    {
     "name": "stdout",
     "output_type": "stream",
     "text": [
      "<class 'pandas.core.frame.DataFrame'>\n",
      "RangeIndex: 3615 entries, 0 to 3614\n",
      "Data columns (total 35 columns):\n",
      " #   Column                                          Non-Null Count  Dtype  \n",
      "---  ------                                          --------------  -----  \n",
      " 0   Marital status                                  3615 non-null   int64  \n",
      " 1   Application mode                                3615 non-null   int64  \n",
      " 2   Application order                               3615 non-null   int64  \n",
      " 3   Course                                          3615 non-null   int64  \n",
      " 4   Daytime/evening attendance                      3615 non-null   int64  \n",
      " 5   Previous qualification                          3615 non-null   int64  \n",
      " 6   Nationality                                     3615 non-null   int64  \n",
      " 7   Mother's qualification                          3615 non-null   int64  \n",
      " 8   Father's qualification                          3615 non-null   int64  \n",
      " 9   Mother's occupation                             3615 non-null   int64  \n",
      " 10  Father's occupation                             3615 non-null   int64  \n",
      " 11  Displaced from home                             3615 non-null   int64  \n",
      " 12  Educational special needs                       3615 non-null   int64  \n",
      " 13  Debtor                                          3615 non-null   int64  \n",
      " 14  Tuition fees up to date                         3615 non-null   int64  \n",
      " 15  Gender                                          3615 non-null   int64  \n",
      " 16  Scholarship holder                              3615 non-null   int64  \n",
      " 17  Age at enrollment                               3615 non-null   int64  \n",
      " 18  International                                   3615 non-null   int64  \n",
      " 19  Curricular units 1st sem (credited)             3615 non-null   int64  \n",
      " 20  Curricular units 1st sem (enrolled)             3615 non-null   int64  \n",
      " 21  Curricular units 1st sem (evaluations)          3615 non-null   int64  \n",
      " 22  Curricular units 1st sem (approved)             3615 non-null   int64  \n",
      " 23  Curricular units 1st sem (grade)                3615 non-null   float64\n",
      " 24  Curricular units 1st sem (without evaluations)  3615 non-null   int64  \n",
      " 25  Curricular units 2nd sem (credited)             3615 non-null   int64  \n",
      " 26  Curricular units 2nd sem (enrolled)             3615 non-null   int64  \n",
      " 27  Curricular units 2nd sem (evaluations)          3615 non-null   int64  \n",
      " 28  Curricular units 2nd sem (approved)             3615 non-null   int64  \n",
      " 29  Curricular units 2nd sem (grade)                3615 non-null   float64\n",
      " 30  Curricular units 2nd sem (without evaluations)  3615 non-null   int64  \n",
      " 31  Unemployment rate                               3615 non-null   float64\n",
      " 32  Inflation rate                                  3615 non-null   float64\n",
      " 33  GDP                                             3615 non-null   float64\n",
      " 34  Target                                          3615 non-null   object \n",
      "dtypes: float64(5), int64(29), object(1)\n",
      "memory usage: 988.6+ KB\n"
     ]
    }
   ],
   "source": [
    "data.info() #see how many entries the data dataframe has and the dataypes for each colunn"
   ]
  },
  {
   "cell_type": "markdown",
   "metadata": {},
   "source": [
    "### Data Analysis"
   ]
  },
  {
   "cell_type": "markdown",
   "metadata": {},
   "source": [
    "#### Barplot\n",
    "The following chart displays students average age of enrollemnt organized by gender and whether they graduated or dropped out of shool."
   ]
  },
  {
   "cell_type": "code",
   "execution_count": 6,
   "metadata": {
    "scrolled": false
   },
   "outputs": [
    {
     "data": {
      "text/plain": [
       "Text(0.5, 1.0, 'Average Age of Enrollment by Gender')"
      ]
     },
     "execution_count": 6,
     "metadata": {},
     "output_type": "execute_result"
    },
    {
     "data": {
      "image/png": "[encoded data removed]",
      "text/plain": [
       "<Figure size 640x480 with 1 Axes>"
      ]
     },
     "metadata": {},
     "output_type": "display_data"
    }
   ],
   "source": [
    "ax = sns.barplot(x=\"Gender\", y=\"Age at enrollment\", hue=\"Target\", data=data, palette='deep')\n",
    "plt.legend(bbox_to_anchor=(1.05, 1), loc=2, borderaxespad=0.)\n",
    "ax.set(xticks=([0,1]))\n",
    "ax.set(xticklabels=(['Female','Male']))\n",
    "ax.set_title('Average Age of Enrollment by Gender')"
   ]
  },
  {
   "cell_type": "markdown",
   "metadata": {},
   "source": [
    "#### Scatterplot\n",
    "The following two charts display the students age of enrollemnt against the grades they achieved during the semester. Also the charts are further categorized into their graduated and dropout statuses.\n",
    "\n",
    "-1st Plot = Grade for the 1st semester\n",
    "\n",
    "-2nd Plot = Grade for teh 2nd semester\n",
    "\n",
    "Grades are on a scale from 0 to 20 as opposed to the GPA 4.0 scale or a 0-100% percentage."
   ]
  },
  {
   "cell_type": "code",
   "execution_count": 7,
   "metadata": {},
   "outputs": [
    {
     "data": {
      "text/plain": [
       "Text(0.5, 1.0, 'Average Age of Enrollment vs 1st Semester Grade')"
      ]
     },
     "execution_count": 7,
     "metadata": {},
     "output_type": "execute_result"
    },
    {
     "data": {
      "image/png": "[encoded data removed]",
      "text/plain": [
       "<Figure size 640x480 with 1 Axes>"
      ]
     },
     "metadata": {},
     "output_type": "display_data"
    }
   ],
   "source": [
    "sns.scatterplot(y=\"Curricular units 1st sem (grade)\", x=\"Age at enrollment\", hue=\"Target\", data=data, palette='Set2')\n",
    "plt.legend(bbox_to_anchor=(1.05, 1), loc=2, borderaxespad=0.)\n",
    "plt.xlim(16,65)\n",
    "plt.ylim(10,None)\n",
    "plt.title('Average Age of Enrollment vs 1st Semester Grade')"
   ]
  },
  {
   "cell_type": "code",
   "execution_count": 8,
   "metadata": {},
   "outputs": [
    {
     "data": {
      "text/plain": [
       "Text(0.5, 1.0, 'Average Age of Enrollment vs 2nd Semester Grade')"
      ]
     },
     "execution_count": 8,
     "metadata": {},
     "output_type": "execute_result"
    },
    {
     "data": {
      "image/png": "[encoded data removed]",
      "text/plain": [
       "<Figure size 640x480 with 1 Axes>"
      ]
     },
     "metadata": {},
     "output_type": "display_data"
    }
   ],
   "source": [
    "sns.scatterplot(y=\"Curricular units 2nd sem (grade)\", x=\"Age at enrollment\", hue=\"Target\", data=data, palette='Set2')\n",
    "plt.legend(bbox_to_anchor=(1.05, 1), loc=2, borderaxespad=0.)\n",
    "plt.xlim(16,65)\n",
    "plt.ylim(10,None)\n",
    "plt.title('Average Age of Enrollment vs 2nd Semester Grade')"
   ]
  },
  {
   "cell_type": "markdown",
   "metadata": {},
   "source": [
    "#### Heatmap\n",
    "The next visualization details the average age of enrollemnt by students organized by marital status and whether they graduated or dropped out of school."
   ]
  },
  {
   "cell_type": "code",
   "execution_count": 9,
   "metadata": {
    "scrolled": true
   },
   "outputs": [
    {
     "data": {
      "text/html": [
       "<div>\n",
       "<style scoped>\n",
       "    .dataframe tbody tr th:only-of-type {\n",
       "        vertical-align: middle;\n",
       "    }\n",
       "\n",
       "    .dataframe tbody tr th {\n",
       "        vertical-align: top;\n",
       "    }\n",
       "\n",
       "    .dataframe thead th {\n",
       "        text-align: right;\n",
       "    }\n",
       "</style>\n",
       "<table border=\"1\" class=\"dataframe\">\n",
       "  <thead>\n",
       "    <tr style=\"text-align: right;\">\n",
       "      <th>Target</th>\n",
       "      <th>Dropout</th>\n",
       "      <th>Graduate</th>\n",
       "    </tr>\n",
       "    <tr>\n",
       "      <th>Marital status</th>\n",
       "      <th></th>\n",
       "      <th></th>\n",
       "    </tr>\n",
       "  </thead>\n",
       "  <tbody>\n",
       "    <tr>\n",
       "      <th>1</th>\n",
       "      <td>23.827820</td>\n",
       "      <td>20.343298</td>\n",
       "    </tr>\n",
       "    <tr>\n",
       "      <th>2</th>\n",
       "      <td>37.056180</td>\n",
       "      <td>36.486486</td>\n",
       "    </tr>\n",
       "    <tr>\n",
       "      <th>3</th>\n",
       "      <td>21.000000</td>\n",
       "      <td>43.000000</td>\n",
       "    </tr>\n",
       "    <tr>\n",
       "      <th>4</th>\n",
       "      <td>39.463415</td>\n",
       "      <td>38.575758</td>\n",
       "    </tr>\n",
       "    <tr>\n",
       "      <th>5</th>\n",
       "      <td>29.636364</td>\n",
       "      <td>33.181818</td>\n",
       "    </tr>\n",
       "    <tr>\n",
       "      <th>6</th>\n",
       "      <td>40.500000</td>\n",
       "      <td>41.000000</td>\n",
       "    </tr>\n",
       "  </tbody>\n",
       "</table>\n",
       "</div>"
      ],
      "text/plain": [
       "Target            Dropout   Graduate\n",
       "Marital status                      \n",
       "1               23.827820  20.343298\n",
       "2               37.056180  36.486486\n",
       "3               21.000000  43.000000\n",
       "4               39.463415  38.575758\n",
       "5               29.636364  33.181818\n",
       "6               40.500000  41.000000"
      ]
     },
     "execution_count": 9,
     "metadata": {},
     "output_type": "execute_result"
    }
   ],
   "source": [
    "xplot = data.pivot_table(values='Age at enrollment',index='Marital status',columns='Target')\n",
    "xplot\n",
    "# The following Marital status index numbers correlate to the following labels:\n",
    "#1=Single, 2=Married, 3=Widower, 4=Divorced, 5=Common Law, 6=Separated"
   ]
  },
  {
   "cell_type": "code",
   "execution_count": 10,
   "metadata": {},
   "outputs": [
    {
     "data": {
      "text/plain": [
       "(array([0.5, 1.5, 2.5, 3.5, 4.5, 5.5]),\n",
       " [Text(0, 0.5, 'Single'),\n",
       "  Text(0, 1.5, 'Married'),\n",
       "  Text(0, 2.5, 'Widower'),\n",
       "  Text(0, 3.5, 'Divorced'),\n",
       "  Text(0, 4.5, 'Common-Law'),\n",
       "  Text(0, 5.5, 'Separated')])"
      ]
     },
     "execution_count": 10,
     "metadata": {},
     "output_type": "execute_result"
    },
    {
     "data": {
      "image/png": "[encoded data removed]",
      "text/plain": [
       "<Figure size 640x480 with 2 Axes>"
      ]
     },
     "metadata": {},
     "output_type": "display_data"
    }
   ],
   "source": [
    "g = sns.heatmap(xplot,cmap='coolwarm')\n",
    "g.set_yticklabels(['Single','Married','Widower','Divorced','Common-Law','Separated'])\n",
    "g.set_title('Average Age of Enrollment by Marital Status')\n",
    "plt.yticks(rotation=45)"
   ]
  },
  {
   "cell_type": "markdown",
   "metadata": {},
   "source": [
    "### Clean the Data"
   ]
  },
  {
   "cell_type": "code",
   "execution_count": 11,
   "metadata": {
    "scrolled": false
   },
   "outputs": [],
   "source": [
    "#for this model we want the Target column to be in the form of 0 or 1 integers instead of strings\n",
    "data_target = pd.get_dummies(data['Target'],drop_first=True) #create a dummy column with the target column"
   ]
  },
  {
   "cell_type": "code",
   "execution_count": 12,
   "metadata": {},
   "outputs": [],
   "source": [
    "data.drop(['Target'],axis=1,inplace=True) #drop the Target column as it's not needed it anymore"
   ]
  },
  {
   "cell_type": "code",
   "execution_count": 13,
   "metadata": {},
   "outputs": [],
   "source": [
    "data = pd.concat([data,data_target],axis=1) #concatenate the new dummy column into the original data dataframe"
   ]
  },
  {
   "cell_type": "code",
   "execution_count": 14,
   "metadata": {},
   "outputs": [],
   "source": [
    "data.drop(['Application order','Displaced from home'],axis=1,inplace=True) #these columns aren't necessary for the algorithm"
   ]
  },
  {
   "cell_type": "code",
   "execution_count": 15,
   "metadata": {
    "scrolled": true
   },
   "outputs": [
    {
     "data": {
      "text/html": [
       "<div>\n",
       "<style scoped>\n",
       "    .dataframe tbody tr th:only-of-type {\n",
       "        vertical-align: middle;\n",
       "    }\n",
       "\n",
       "    .dataframe tbody tr th {\n",
       "        vertical-align: top;\n",
       "    }\n",
       "\n",
       "    .dataframe thead th {\n",
       "        text-align: right;\n",
       "    }\n",
       "</style>\n",
       "<table border=\"1\" class=\"dataframe\">\n",
       "  <thead>\n",
       "    <tr style=\"text-align: right;\">\n",
       "      <th></th>\n",
       "      <th>Marital status</th>\n",
       "      <th>Application mode</th>\n",
       "      <th>Course</th>\n",
       "      <th>Daytime/evening attendance</th>\n",
       "      <th>Previous qualification</th>\n",
       "      <th>Nationality</th>\n",
       "      <th>Mother's qualification</th>\n",
       "      <th>Father's qualification</th>\n",
       "      <th>Mother's occupation</th>\n",
       "      <th>Father's occupation</th>\n",
       "      <th>...</th>\n",
       "      <th>Curricular units 2nd sem (credited)</th>\n",
       "      <th>Curricular units 2nd sem (enrolled)</th>\n",
       "      <th>Curricular units 2nd sem (evaluations)</th>\n",
       "      <th>Curricular units 2nd sem (approved)</th>\n",
       "      <th>Curricular units 2nd sem (grade)</th>\n",
       "      <th>Curricular units 2nd sem (without evaluations)</th>\n",
       "      <th>Unemployment rate</th>\n",
       "      <th>Inflation rate</th>\n",
       "      <th>GDP</th>\n",
       "      <th>Graduate</th>\n",
       "    </tr>\n",
       "  </thead>\n",
       "  <tbody>\n",
       "    <tr>\n",
       "      <th>0</th>\n",
       "      <td>1</td>\n",
       "      <td>8</td>\n",
       "      <td>2</td>\n",
       "      <td>1</td>\n",
       "      <td>1</td>\n",
       "      <td>1</td>\n",
       "      <td>13</td>\n",
       "      <td>10</td>\n",
       "      <td>6</td>\n",
       "      <td>10</td>\n",
       "      <td>...</td>\n",
       "      <td>0</td>\n",
       "      <td>0</td>\n",
       "      <td>0</td>\n",
       "      <td>0</td>\n",
       "      <td>0.000000</td>\n",
       "      <td>0</td>\n",
       "      <td>10.8</td>\n",
       "      <td>1.4</td>\n",
       "      <td>1.74</td>\n",
       "      <td>0</td>\n",
       "    </tr>\n",
       "    <tr>\n",
       "      <th>1</th>\n",
       "      <td>1</td>\n",
       "      <td>6</td>\n",
       "      <td>11</td>\n",
       "      <td>1</td>\n",
       "      <td>1</td>\n",
       "      <td>1</td>\n",
       "      <td>1</td>\n",
       "      <td>3</td>\n",
       "      <td>4</td>\n",
       "      <td>4</td>\n",
       "      <td>...</td>\n",
       "      <td>0</td>\n",
       "      <td>6</td>\n",
       "      <td>6</td>\n",
       "      <td>6</td>\n",
       "      <td>13.666667</td>\n",
       "      <td>0</td>\n",
       "      <td>13.9</td>\n",
       "      <td>-0.3</td>\n",
       "      <td>0.79</td>\n",
       "      <td>1</td>\n",
       "    </tr>\n",
       "    <tr>\n",
       "      <th>2</th>\n",
       "      <td>1</td>\n",
       "      <td>1</td>\n",
       "      <td>5</td>\n",
       "      <td>1</td>\n",
       "      <td>1</td>\n",
       "      <td>1</td>\n",
       "      <td>22</td>\n",
       "      <td>27</td>\n",
       "      <td>10</td>\n",
       "      <td>10</td>\n",
       "      <td>...</td>\n",
       "      <td>0</td>\n",
       "      <td>6</td>\n",
       "      <td>0</td>\n",
       "      <td>0</td>\n",
       "      <td>0.000000</td>\n",
       "      <td>0</td>\n",
       "      <td>10.8</td>\n",
       "      <td>1.4</td>\n",
       "      <td>1.74</td>\n",
       "      <td>0</td>\n",
       "    </tr>\n",
       "    <tr>\n",
       "      <th>3</th>\n",
       "      <td>1</td>\n",
       "      <td>8</td>\n",
       "      <td>15</td>\n",
       "      <td>1</td>\n",
       "      <td>1</td>\n",
       "      <td>1</td>\n",
       "      <td>23</td>\n",
       "      <td>27</td>\n",
       "      <td>6</td>\n",
       "      <td>4</td>\n",
       "      <td>...</td>\n",
       "      <td>0</td>\n",
       "      <td>6</td>\n",
       "      <td>10</td>\n",
       "      <td>5</td>\n",
       "      <td>12.400000</td>\n",
       "      <td>0</td>\n",
       "      <td>9.4</td>\n",
       "      <td>-0.8</td>\n",
       "      <td>-3.12</td>\n",
       "      <td>1</td>\n",
       "    </tr>\n",
       "    <tr>\n",
       "      <th>4</th>\n",
       "      <td>2</td>\n",
       "      <td>12</td>\n",
       "      <td>3</td>\n",
       "      <td>0</td>\n",
       "      <td>1</td>\n",
       "      <td>1</td>\n",
       "      <td>22</td>\n",
       "      <td>28</td>\n",
       "      <td>10</td>\n",
       "      <td>10</td>\n",
       "      <td>...</td>\n",
       "      <td>0</td>\n",
       "      <td>6</td>\n",
       "      <td>6</td>\n",
       "      <td>6</td>\n",
       "      <td>13.000000</td>\n",
       "      <td>0</td>\n",
       "      <td>13.9</td>\n",
       "      <td>-0.3</td>\n",
       "      <td>0.79</td>\n",
       "      <td>1</td>\n",
       "    </tr>\n",
       "  </tbody>\n",
       "</table>\n",
       "<p>5 rows × 33 columns</p>\n",
       "</div>"
      ],
      "text/plain": [
       "   Marital status  Application mode  Course  Daytime/evening attendance  \\\n",
       "0               1                 8       2                           1   \n",
       "1               1                 6      11                           1   \n",
       "2               1                 1       5                           1   \n",
       "3               1                 8      15                           1   \n",
       "4               2                12       3                           0   \n",
       "\n",
       "   Previous qualification  Nationality  Mother's qualification  \\\n",
       "0                       1            1                      13   \n",
       "1                       1            1                       1   \n",
       "2                       1            1                      22   \n",
       "3                       1            1                      23   \n",
       "4                       1            1                      22   \n",
       "\n",
       "   Father's qualification  Mother's occupation  Father's occupation  ...  \\\n",
       "0                      10                    6                   10  ...   \n",
       "1                       3                    4                    4  ...   \n",
       "2                      27                   10                   10  ...   \n",
       "3                      27                    6                    4  ...   \n",
       "4                      28                   10                   10  ...   \n",
       "\n",
       "   Curricular units 2nd sem (credited)  Curricular units 2nd sem (enrolled)  \\\n",
       "0                                    0                                    0   \n",
       "1                                    0                                    6   \n",
       "2                                    0                                    6   \n",
       "3                                    0                                    6   \n",
       "4                                    0                                    6   \n",
       "\n",
       "   Curricular units 2nd sem (evaluations)  \\\n",
       "0                                       0   \n",
       "1                                       6   \n",
       "2                                       0   \n",
       "3                                      10   \n",
       "4                                       6   \n",
       "\n",
       "   Curricular units 2nd sem (approved)  Curricular units 2nd sem (grade)  \\\n",
       "0                                    0                          0.000000   \n",
       "1                                    6                         13.666667   \n",
       "2                                    0                          0.000000   \n",
       "3                                    5                         12.400000   \n",
       "4                                    6                         13.000000   \n",
       "\n",
       "   Curricular units 2nd sem (without evaluations)  Unemployment rate  \\\n",
       "0                                               0               10.8   \n",
       "1                                               0               13.9   \n",
       "2                                               0               10.8   \n",
       "3                                               0                9.4   \n",
       "4                                               0               13.9   \n",
       "\n",
       "   Inflation rate   GDP  Graduate  \n",
       "0             1.4  1.74         0  \n",
       "1            -0.3  0.79         1  \n",
       "2             1.4  1.74         0  \n",
       "3            -0.8 -3.12         1  \n",
       "4            -0.3  0.79         1  \n",
       "\n",
       "[5 rows x 33 columns]"
      ]
     },
     "execution_count": 15,
     "metadata": {},
     "output_type": "execute_result"
    }
   ],
   "source": [
    "data.head() #check the first 5 rows of the data datafram to ensure that the Graduate column has been successfully added"
   ]
  },
  {
   "cell_type": "code",
   "execution_count": 16,
   "metadata": {},
   "outputs": [
    {
     "name": "stdout",
     "output_type": "stream",
     "text": [
      "<class 'pandas.core.frame.DataFrame'>\n",
      "RangeIndex: 3615 entries, 0 to 3614\n",
      "Data columns (total 33 columns):\n",
      " #   Column                                          Non-Null Count  Dtype  \n",
      "---  ------                                          --------------  -----  \n",
      " 0   Marital status                                  3615 non-null   int64  \n",
      " 1   Application mode                                3615 non-null   int64  \n",
      " 2   Course                                          3615 non-null   int64  \n",
      " 3   Daytime/evening attendance                      3615 non-null   int64  \n",
      " 4   Previous qualification                          3615 non-null   int64  \n",
      " 5   Nationality                                     3615 non-null   int64  \n",
      " 6   Mother's qualification                          3615 non-null   int64  \n",
      " 7   Father's qualification                          3615 non-null   int64  \n",
      " 8   Mother's occupation                             3615 non-null   int64  \n",
      " 9   Father's occupation                             3615 non-null   int64  \n",
      " 10  Educational special needs                       3615 non-null   int64  \n",
      " 11  Debtor                                          3615 non-null   int64  \n",
      " 12  Tuition fees up to date                         3615 non-null   int64  \n",
      " 13  Gender                                          3615 non-null   int64  \n",
      " 14  Scholarship holder                              3615 non-null   int64  \n",
      " 15  Age at enrollment                               3615 non-null   int64  \n",
      " 16  International                                   3615 non-null   int64  \n",
      " 17  Curricular units 1st sem (credited)             3615 non-null   int64  \n",
      " 18  Curricular units 1st sem (enrolled)             3615 non-null   int64  \n",
      " 19  Curricular units 1st sem (evaluations)          3615 non-null   int64  \n",
      " 20  Curricular units 1st sem (approved)             3615 non-null   int64  \n",
      " 21  Curricular units 1st sem (grade)                3615 non-null   float64\n",
      " 22  Curricular units 1st sem (without evaluations)  3615 non-null   int64  \n",
      " 23  Curricular units 2nd sem (credited)             3615 non-null   int64  \n",
      " 24  Curricular units 2nd sem (enrolled)             3615 non-null   int64  \n",
      " 25  Curricular units 2nd sem (evaluations)          3615 non-null   int64  \n",
      " 26  Curricular units 2nd sem (approved)             3615 non-null   int64  \n",
      " 27  Curricular units 2nd sem (grade)                3615 non-null   float64\n",
      " 28  Curricular units 2nd sem (without evaluations)  3615 non-null   int64  \n",
      " 29  Unemployment rate                               3615 non-null   float64\n",
      " 30  Inflation rate                                  3615 non-null   float64\n",
      " 31  GDP                                             3615 non-null   float64\n",
      " 32  Graduate                                        3615 non-null   uint8  \n",
      "dtypes: float64(5), int64(27), uint8(1)\n",
      "memory usage: 907.4 KB\n"
     ]
    }
   ],
   "source": [
    "data.info() #see how many entries the data dataframe has and the dataypes for each colunn"
   ]
  },
  {
   "cell_type": "markdown",
   "metadata": {},
   "source": [
    "### Build the Model"
   ]
  },
  {
   "cell_type": "markdown",
   "metadata": {},
   "source": [
    "#### Train and Test Split"
   ]
  },
  {
   "cell_type": "code",
   "execution_count": 17,
   "metadata": {},
   "outputs": [],
   "source": [
    "from sklearn.model_selection import train_test_split #splits the dataset into train and test data"
   ]
  },
  {
   "cell_type": "code",
   "execution_count": 18,
   "metadata": {},
   "outputs": [],
   "source": [
    "X = data.drop('Graduate',axis=1) #features used to predict y\n",
    "y = data['Graduate'] #what we want to predict\n",
    "X = X.values\n",
    "y = y.values"
   ]
  },
  {
   "cell_type": "code",
   "execution_count": 19,
   "metadata": {},
   "outputs": [],
   "source": [
    "X_train, X_test, y_train, y_test = train_test_split(X, y, test_size=0.3, random_state=55) #split the dataset"
   ]
  },
  {
   "cell_type": "markdown",
   "metadata": {},
   "source": [
    "#### Training and Predicting"
   ]
  },
  {
   "cell_type": "code",
   "execution_count": 20,
   "metadata": {},
   "outputs": [],
   "source": [
    "from sklearn.linear_model import LogisticRegression #import the logistic regression algorithm from sklearn"
   ]
  },
  {
   "cell_type": "code",
   "execution_count": 21,
   "metadata": {},
   "outputs": [
    {
     "data": {
      "text/plain": [
       "LogisticRegression(max_iter=1000)"
      ]
     },
     "execution_count": 21,
     "metadata": {},
     "output_type": "execute_result"
    }
   ],
   "source": [
    "#due to limited memory (lbfgs), increase the max interations to 1000 to remove warning label when the default value is 100\n",
    "logmodel = LogisticRegression(solver='lbfgs', max_iter=1000) #assign the algorithm to variable logmodel\n",
    "logmodel.fit(X_train,y_train) #fit the training data to the logistic regression algorithm"
   ]
  },
  {
   "cell_type": "code",
   "execution_count": 22,
   "metadata": {},
   "outputs": [],
   "source": [
    "prediction = logmodel.predict(X_test) #assign the modles prediction of the test dataset to a variable"
   ]
  },
  {
   "cell_type": "markdown",
   "metadata": {},
   "source": [
    "### Evaluate the Algorithm"
   ]
  },
  {
   "cell_type": "code",
   "execution_count": 23,
   "metadata": {},
   "outputs": [],
   "source": [
    "from sklearn.metrics import classification_report, confusion_matrix #import a couple evaluation report metrics"
   ]
  },
  {
   "cell_type": "code",
   "execution_count": 24,
   "metadata": {},
   "outputs": [
    {
     "name": "stdout",
     "output_type": "stream",
     "text": [
      "Classification Report:\n",
      "              precision    recall  f1-score   support\n",
      "\n",
      "           0       0.93      0.82      0.87       417\n",
      "           1       0.89      0.96      0.93       668\n",
      "\n",
      "    accuracy                           0.91      1085\n",
      "   macro avg       0.91      0.89      0.90      1085\n",
      "weighted avg       0.91      0.91      0.90      1085\n",
      "\n",
      "\n",
      "\n",
      "Confusion Matrix:\n",
      "[[340  77]\n",
      " [ 26 642]]\n"
     ]
    }
   ],
   "source": [
    "#print the results\n",
    "print('Classification Report:')\n",
    "print(classification_report(y_test,prediction))\n",
    "print('\\n')\n",
    "print('Confusion Matrix:')\n",
    "print (confusion_matrix(y_test,prediction))"
   ]
  },
  {
   "cell_type": "markdown",
   "metadata": {},
   "source": [
    "The algorithm performed well with an accuracy of 91%.\n",
    "Out of 1085 trials, the algorithm successfully classified a student\n",
    "dropping out 340 times\n",
    "and graduating 642 times.\n",
    "The algorithm misclassified a student as\n",
    "dropping out 77 times\n",
    "and graduating 26 times."
   ]
  },
  {
   "cell_type": "markdown",
   "metadata": {},
   "source": [
    "### CPU Test the Algorithm\n",
    "We will now test the algorithm given some prediction data."
   ]
  },
  {
   "cell_type": "code",
   "execution_count": 25,
   "metadata": {},
   "outputs": [
    {
     "name": "stdout",
     "output_type": "stream",
     "text": [
      "This student likely dropped out of school.\n"
     ]
    }
   ],
   "source": [
    "prediction = logmodel.predict([[1,12,6,1,1,1,27,7,5,3,0,1,1,0,1,22,0,0,7,7,1,12.5,0,0,7,7,2,14.1,0,10.6,2.1,0.65]])\n",
    "\n",
    "if prediction == [0]:\n",
    "    prediction = 'dropped out of school.'\n",
    "else:\n",
    "    prediction = 'graduated from school.'\n",
    "\n",
    "print('This student likely', prediction)"
   ]
  },
  {
   "cell_type": "markdown",
   "metadata": {},
   "source": [
    "# <font color='green'>User Test the Algorithm</font>\n",
    "The following code creates the prompts for the user to input their own prediction data."
   ]
  },
  {
   "cell_type": "code",
   "execution_count": 26,
   "metadata": {},
   "outputs": [],
   "source": [
    "x0 = widgets.Dropdown(\n",
    "    options=[('Single',1),('Marrried',2),('Widower',3),('Divorced',4),('Common-Law',5),('Legally Separated',6)],\n",
    "    value=1,description='Marital Status',)\n",
    "x1 = widgets.Dropdown(\n",
    "    options=[('1st Phase-General Contingent',1),('1st Phase-Special Contingent (Azores Island)',3),\n",
    "             ('Holders of other higher courses',4),('International Student (Bachelor)',6),\n",
    "             ('1st Phase-Special Contingent(Madeira Island)',7),('2nd Phase-General Contingent',8),\n",
    "             ('3rd Phase-General Contingent',9),('Over 23 years old',12),('Transfer',13),('Change in course',14),\n",
    "             ('Technological specilization diploma holders',15),('Change in institution/course',16),\n",
    "             ('Short cycle diploma holders',17),('Change in institution/course (international)',18)],\n",
    "    value=1,description='Application Mode',)\n",
    "x2 = widgets.Dropdown(\n",
    "    options=[('Biofuel Production Technologies',1),('Animation and Multimedia Design',2),\n",
    "             ('Social Service (Evening Attendance)',3),('Agronomy',4),('Communication Design',5),('Veterinary Nursing',6),\n",
    "             ('Informatics Engineering',7),('Equiniculture',8),('Management',9),('Social Service',10),('Toursim',11),\n",
    "             ('Nursing',12),('Oral Hygiene',13),('Advertising and Marketing Management',14),\n",
    "             ('Journalism and Communication',15),('Basic Education',16),('Management (Evening Attendance)',17)],\n",
    "    value=1,description='Course of study',)\n",
    "x3 = widgets.Dropdown(\n",
    "    options=[('Daytime',1),('Evening',0)],\n",
    "    value=1,description='Daytime/Evening Attendance',)\n",
    "x4 = widgets.Dropdown(\n",
    "    options=[('Secondary Education',1),('Higher Education-Bachelors Degree',2),('Higher Education-Degree',3),\n",
    "             ('Higher Education-Masters Degree',4),('Higher Education-Doctorate',5),('Frequency of Higher Education',6),\n",
    "             ('12th Year of Schooling-Not Completed',7),('11th Year of Schooling-Not Completed',8),\n",
    "             ('Other-11th Year of Schooling',9),('10th Year of Schooling',10),('10th Year of Schooling-Not Completed',11),\n",
    "             ('Basic Education 3rd Cycle (9th/10th/11th Year) or equivalent',12),\n",
    "             ('Basic Education 2nd Cycle (6th/7th/8th Year) or equivalent',13),\n",
    "             ('Technological Specialization Course',14),('Higher Education-Degree (1st Cycle)',15),\n",
    "             ('Professional Higher Technical Course',16),('Higher Education-Masters Degree (2nd Cycle)',17)],\n",
    "    value=1,description='Previous Qualification',)\n",
    "x5 = widgets.Dropdown(\n",
    "    options=[('Portuguese',1),('German',2),('Spanish',3),('Italian',4),('Dutch',5),('English',6),('Lithuanian',7),\n",
    "             ('Angolan',8),('Cape Verdean',9),('Guinean',10),('Mozambican',11),('Santomean',12),('Turkish',13),\n",
    "             ('Brazilian',14),('Romanian',15),('Moldova (Republic of)',16),('Mexican',17),('Ukrainian',18),('Russian',19),\n",
    "             ('Cuban',20),('Colombian',21)],\n",
    "    value=1,description='Nationality',)\n",
    "x6 = widgets.Dropdown(\n",
    "    options=[('Secondary Education-12th Year of Schooling or Equivalent',1),('Higher Education-Bachelors Degree',2),\n",
    "             ('Higher Education-Degree',3),('Higher Education-Masters Degree',4),('Higher Education-Doctorate',5),\n",
    "             ('Frequency of Higher Education',6),('12th Year of Schooling-Not Completed',7),\n",
    "             ('11th Year of Schooling-Not Completed',8),('7th Year (old)',9),('Other-11th Year of Schooling',10),\n",
    "             ('2nd Year of Complementary High School Course',11),('10th Year of Schooling',12),('General Commerce Course',13),\n",
    "             ('Basic Education 3rd Cycle (9th/10th/11th Year) or Equivalent',14),('Complementary High School Course',15),\n",
    "             ('Technical Professional Course',16),('Complementary High School Course-Not Concluded',17),\n",
    "             ('7th Year of Schooling',18),('2nd Cycle of the General High School Course',19),\n",
    "             ('9th Year of Schooling-Not Completed',20),('8th Year of Schooling',21),\n",
    "             ('General Course of Administration and Commerce',22),('Supplementary Accounting and Administration',23),\n",
    "             ('Unknown',24),('cannot Read or Write',25),('Can Read Without Having a 4th Year of Schooling',26),\n",
    "             ('Basic Education 1st Cycle (4th/5th Year) or Equivalent',27),\n",
    "             ('Basic Education 2nd Cycle (6th/7th/8th Year) or Equivalent',28),('Technological Specialization Course',29),\n",
    "             ('Higher Education-Degree(1st Cycle)',30),('Specialized Higher Studies Course',31),\n",
    "             ('Professional Higher Technical Course',32),('Higher Education-Masters Degree (2nd Cycle)',33),\n",
    "             ('Higher Education-Doctorate (3rd Cycle)',34)],\n",
    "    value=1,description='Mothers qualification',)\n",
    "x7 = widgets.Dropdown(\n",
    "    options=[('Secondary Education-12th Year of Schooling or Equivalent',1),('Higher Education-Bachelors Degree',2),\n",
    "             ('Higher Education-Degree',3),('Higher Education-Masters Degree',4),('Higher Education-Doctorate',5),\n",
    "             ('Frequency of Higher Education',6),('12th Year of Schooling-Not Completed',7),\n",
    "             ('11th Year of Schooling-Not Completed',8),('7th Year (old)',9),('Other-11th Year of Schooling',10),\n",
    "             ('2nd Year of Complementary High School Course',11),('10th Year of Schooling',12),('General Commerce Course',13),\n",
    "             ('Basic Education 3rd Cycle (9th/10th/11th Year) or Equivalent',14),('Complementary High School Course',15),\n",
    "             ('Technical Professional Course',16),('Complementary High School Course-Not Concluded',17),\n",
    "             ('7th Year of Schooling',18),('2nd Cycle of the General High School Course',19),\n",
    "             ('9th Year of Schooling-Not Completed',20),('8th Year of Schooling',21),\n",
    "             ('General Course of Administration and Commerce',22),('Supplementary Accounting and Administration',23),\n",
    "             ('Unknown',24),('cannot Read or Write',25),('Can Read Without Having a 4th Year of Schooling',26),\n",
    "             ('Basic Education 1st Cycle (4th/5th Year) or Equivalent',27),\n",
    "             ('Basic Education 2nd Cycle (6th/7th/8th Year) or Equivalent',28),('Technological Specialization Course',29),\n",
    "             ('Higher Education-Degree(1st Cycle)',30),('Specialized Higher Studies Course',31),\n",
    "             ('Professional Higher Technical Course',32),('Higher Education-Masters Degree (2nd Cycle)',33),\n",
    "             ('Higher Education-Doctorate (3rd Cycle)',34)],\n",
    "    value=1,description='Fathers qualification',)\n",
    "x8 = widgets.Dropdown(\n",
    "    options=[('Student',1),\n",
    "             ('Representatives of the Legislative Power and Executive Bodies, Directors, Directors and Executive Managers',2),\n",
    "             ('Specialists in Intellectual and Scientific Activities',3),('Intermediate Level Technicians and Professions',4),\n",
    "             ('Administrative staff',5),('Personal Services, Security and Safety Workers, and Sellers',6),\n",
    "             ('Farmers and Skilled Workers in Agriculture, Fisheries, and Forestry',7),\n",
    "             ('Skilled Workers in Industry, Construction, and Craftsmen',8),\n",
    "             ('Installation and Machine Operators and Assembly Workers',9),('Unskilled Workers',10),\n",
    "             ('Armed Forces Professions',11),('Other Situation',12),('None',13),('Armed Forces Officers',14),\n",
    "             ('Armed Forces Sergeants',15),('Other Armed Forces Personnel',16),\n",
    "             ('Directors of Administrative and Commercial Services',17),\n",
    "             ('Hotel, Catering, Trade, and Other Services Directors',18),\n",
    "             ('Specialists in the Physical Sciences, Mathematics, Engineering, and Related Techniques',19),\n",
    "             ('Health professionals',20),('Teachers',21),\n",
    "             ('Specialists in Finance, Accounting, Administrative Organization, and Public and Commercial Relations',22),\n",
    "             ('Intermediate Level Science and Engineering Technicians and Professions',23),\n",
    "             ('Technicians and Professionals of Intermediate Level of Health',24),\n",
    "             ('Intermediate Level Technicians from Legal, Social, Sports, Cultural, and Similar Services',25),\n",
    "             ('Information and Communication Technology Technicians',26),\n",
    "             ('Office Workers, Secretaries in General, and Data Processing Operators',27),\n",
    "             ('Data, Accounting, Statistical, Financial services, and Registry-Related Operators',28),\n",
    "             ('Other Administrative Support Staff',29),('Personal Service Workers',30),('Sellers',31),\n",
    "             ('Personal Care Workers and the Like',32),('Protection and Security Services Personnel',33),\n",
    "             ('Market-Oriented Farmers and Skilled Agricultural and Animal Production Workers',34),\n",
    "             ('Farmers, Livestock Keepers, Fishermen, Hunters and Gatherers, and Subsistence',35),\n",
    "             ('Skilled Construction Workers and the Like, Except Electricians',36),\n",
    "             ('Skilled Workers in Netallurgy, Netalworking, and Similar',37),\n",
    "             ('Skilled Workers in Electricity and Electronics',38),\n",
    "             ('Workers in Food Processing, Woodworking, and Clothing and Other Industries and Crafts',39),\n",
    "             ('Fixed Plant and Machine Operators',40),('Assembly Workers',41),\n",
    "             ('Vehicle Drivers and Mobile Equipment Operators',42),\n",
    "             ('Unskilled Workers in Agriculture, Animal Production, and Fisheries and Forestry',43),\n",
    "             ('Unskilled Workers in Extractive Industry, Construction, Manufacturing, and Transport',44),\n",
    "             ('Meal Preparation Assistants',45),('Street Vendors (Except Food) and Street Service Providers',46)],\n",
    "    value=1,description='Mothers Occupation',)\n",
    "x9 = widgets.Dropdown(\n",
    "    options=[('Student',1),\n",
    "             ('Representatives of the Legislative Power and Executive Bodies, Directors, Directors and Executive Managers',2),\n",
    "             ('Specialists in Intellectual and Scientific Activities',3),('Intermediate Level Technicians and Professions',4),\n",
    "             ('Administrative staff',5),('Personal Services, Security and Safety Workers, and Sellers',6),\n",
    "             ('Farmers and Skilled Workers in Agriculture, Fisheries, and Forestry',7),\n",
    "             ('Skilled Workers in Industry, Construction, and Craftsmen',8),\n",
    "             ('Installation and Machine Operators and Assembly Workers',9),('Unskilled Workers',10),\n",
    "             ('Armed Forces Professions',11),('Other Situation',12),('None',13),('Armed Forces Officers',14),\n",
    "             ('Armed Forces Sergeants',15),('Other Armed Forces Personnel',16),\n",
    "             ('Directors of Administrative and Commercial Services',17),\n",
    "             ('Hotel, Catering, Trade, and Other Services Directors',18),\n",
    "             ('Specialists in the Physical Sciences, Mathematics, Engineering, and Related Techniques',19),\n",
    "             ('Health professionals',20),('Teachers',21),\n",
    "             ('Specialists in Finance, Accounting, Administrative Organization, and Public and Commercial Relations',22),\n",
    "             ('Intermediate Level Science and Engineering Technicians and Professions',23),\n",
    "             ('Technicians and Professionals of Intermediate Level of Health',24),\n",
    "             ('Intermediate Level Technicians from Legal, Social, Sports, Cultural, and Similar Services',25),\n",
    "             ('Information and Communication Technology Technicians',26),\n",
    "             ('Office Workers, Secretaries in General, and Data Processing Operators',27),\n",
    "             ('Data, Accounting, Statistical, Financial services, and Registry-Related Operators',28),\n",
    "             ('Other Administrative Support Staff',29),('Personal Service Workers',30),('Sellers',31),\n",
    "             ('Personal Care Workers and the Like',32),('Protection and Security Services Personnel',33),\n",
    "             ('Market-Oriented Farmers and Skilled Agricultural and Animal Production Workers',34),\n",
    "             ('Farmers, Livestock Keepers, Fishermen, Hunters and Gatherers, and Subsistence',35),\n",
    "             ('Skilled Construction Workers and the Like, Except Electricians',36),\n",
    "             ('Skilled Workers in Netallurgy, Netalworking, and Similar',37),\n",
    "             ('Skilled Workers in Electricity and Electronics',38),\n",
    "             ('Workers in Food Processing, Woodworking, and Clothing and Other Industries and Crafts',39),\n",
    "             ('Fixed Plant and Machine Operators',40),('Assembly Workers',41),\n",
    "             ('Vehicle Drivers and Mobile Equipment Operators',42),\n",
    "             ('Unskilled Workers in Agriculture, Animal Production, and Fisheries and Forestry',43),\n",
    "             ('Unskilled Workers in Extractive Industry, Construction, Manufacturing, and Transport',44),\n",
    "             ('Meal Preparation Assistants',45),('Street Vendors (Except Food) and Street Service Providers',46)],\n",
    "    value=1,description='Fathers Occupation',)\n",
    "x10 = widgets.Dropdown(\n",
    "    options=[('Yes',1),('No',0)],\n",
    "    value=1,description='Educational Special Needs',)\n",
    "x11 = widgets.Dropdown(\n",
    "    options=[('Yes',1),('No',0)],\n",
    "    value=1,description='Debtor',)\n",
    "x12 = widgets.Dropdown(\n",
    "    options=[('Yes',1),('No',0)],\n",
    "    value=1,description='Tuition Fees up to Date',)\n",
    "x13 = widgets.Dropdown(\n",
    "    options=[('Male',1),('Female',0)],\n",
    "    value=1,description='Gender',)\n",
    "x14 = widgets.Dropdown(\n",
    "    options=[('Yes',1),('No',0)],\n",
    "    value=1,description='Scholarship Holder',)\n",
    "x15 = widgets.IntSlider(value=20,min=17,max=70,step=1,description='Age at Enrollment',disabled=False,continuous_update=False,\n",
    "    orientation='horizontal',readout=True,readout_format='d')\n",
    "x16 = widgets.Dropdown(\n",
    "    options=[('Yes',1),('No',0)],\n",
    "    value=1,description='International',)\n",
    "x17 = widgets.IntSlider(value=0,min=0,max=50,step=1,description='Curricular Units 1st Semester (Credited)',disabled=False,\n",
    "    continuous_update=False,orientation='horizontal',readout=True,readout_format='d')\n",
    "x18 = widgets.IntSlider(value=0,min=0,max=50,step=1,description='Curricular Units 1st Semester (Enrolled)',disabled=False,\n",
    "    continuous_update=False,orientation='horizontal',readout=True,readout_format='d')\n",
    "x19 = widgets.IntSlider(value=0,min=0,max=50,step=1,description='Curricular Units 1st Semester (Evaluations)',disabled=False,\n",
    "    continuous_update=False,orientation='horizontal',readout=True,readout_format='d')\n",
    "x20 = widgets.IntSlider(value=0,min=0,max=50,step=1,description='Curricular Units 1st Semester (Approved)',disabled=False,\n",
    "    continuous_update=False,orientation='horizontal',readout=True,readout_format='d')\n",
    "x21 = widgets.FloatSlider(value=10,min=0,max=20.0,step=0.1,description='Curricular Units 1st Semester (Grade)',\n",
    "    disabled=False,continuous_update=False,orientation='horizontal',readout=True,readout_format='.1f',)\n",
    "x22 = widgets.IntSlider(value=0,min=0,max=50,step=1,description='Curricular Units 1st Semester (Without Evaluations)',\n",
    "    disabled=False,continuous_update=False,orientation='horizontal',readout=True,readout_format='d')\n",
    "x23 = widgets.IntSlider(value=0,min=0,max=50,step=1,description='Curricular Units 2nd Semester (Credited)',disabled=False,\n",
    "    continuous_update=False,orientation='horizontal',readout=True,readout_format='d')\n",
    "x24 = widgets.IntSlider(value=0,min=0,max=50,step=1,description='Curricular Units 2nd Semester (Enrolled)',disabled=False,\n",
    "    continuous_update=False,orientation='horizontal',readout=True,readout_format='d')\n",
    "x25 = widgets.IntSlider(value=0,min=0,max=50,step=1,description='Curricular Units 2nd Semester (Evaluations)',disabled=False,\n",
    "    continuous_update=False,orientation='horizontal',readout=True,readout_format='d')\n",
    "x26 = widgets.IntSlider(value=0,min=0,max=50,step=1,description='Curricular Units 2nd Semester (Approved)',disabled=False,\n",
    "    continuous_update=False,orientation='horizontal',readout=True,readout_format='d')\n",
    "x27 = widgets.FloatSlider(value=10,min=0,max=20.0,step=0.1,description='Curricular Units 2nd Semester (Grade)',\n",
    "    disabled=False,continuous_update=False,orientation='horizontal',readout=True,readout_format='.1f',)\n",
    "x28 = widgets.IntSlider(value=0,min=0,max=50,step=1,description='Curricular Units 2nd Semester (Without Evaluations)',\n",
    "    disabled=False,continuous_update=False,orientation='horizontal',readout=True,readout_format='d')\n",
    "x29 = widgets.FloatSlider(value=10,min=0,max=20.0,step=0.1,description='Unemployment Rate',\n",
    "    disabled=False,continuous_update=False,orientation='horizontal',readout=True,readout_format='.1f',)\n",
    "x30 = widgets.FloatSlider(value=0,min=-2.0,max=5.0,step=0.1,description='Inflation Rate',\n",
    "    disabled=False,continuous_update=False,orientation='horizontal',readout=True,readout_format='.1f',)\n",
    "x31 = widgets.FloatSlider(value=0,min=-5.0,max=5.0,step=0.1,description='GDP',\n",
    "    disabled=False,continuous_update=False,orientation='horizontal',readout=True,readout_format='.1f',)"
   ]
  },
  {
   "cell_type": "markdown",
   "metadata": {},
   "source": [
    "# ----------------------------------------------\n",
    "\n",
    "# <font color='green'>User Interactivity</font>\n",
    "\n",
    "# ----------------------------------------------"
   ]
  },
  {
   "cell_type": "markdown",
   "metadata": {},
   "source": [
    "# ----------------------------------------------\n",
    "\n",
    "## <font color='red'>Please Answer the Following Prompts</font>\n",
    "\n",
    "# ----------------------------------------------"
   ]
  },
  {
   "cell_type": "code",
   "execution_count": 27,
   "metadata": {},
   "outputs": [
    {
     "data": {
      "application/vnd.jupyter.widget-view+json": {
       "model_id": "5c558d17f0784c88926a708890263725",
       "version_major": 2,
       "version_minor": 0
      },
      "text/plain": [
       "Dropdown(description='Marital Status', options=(('Single', 1), ('Marrried', 2), ('Widower', 3), ('Divorced', 4…"
      ]
     },
     "metadata": {},
     "output_type": "display_data"
    }
   ],
   "source": [
    "x0 #Marital Status"
   ]
  },
  {
   "cell_type": "code",
   "execution_count": 28,
   "metadata": {},
   "outputs": [
    {
     "data": {
      "application/vnd.jupyter.widget-view+json": {
       "model_id": "5f1cf96dbc1a4cb1ac3f18beafd9da84",
       "version_major": 2,
       "version_minor": 0
      },
      "text/plain": [
       "Dropdown(description='Application Mode', options=(('1st Phase-General Contingent', 1), ('1st Phase-Special Con…"
      ]
     },
     "metadata": {},
     "output_type": "display_data"
    }
   ],
   "source": [
    "x1 #Method of Application"
   ]
  },
  {
   "cell_type": "code",
   "execution_count": 29,
   "metadata": {},
   "outputs": [
    {
     "data": {
      "application/vnd.jupyter.widget-view+json": {
       "model_id": "52e9434cac9f48879e4d0a6939d262f5",
       "version_major": 2,
       "version_minor": 0
      },
      "text/plain": [
       "Dropdown(description='Course of study', options=(('Biofuel Production Technologies', 1), ('Animation and Multi…"
      ]
     },
     "metadata": {},
     "output_type": "display_data"
    }
   ],
   "source": [
    "x2 #Course of Study"
   ]
  },
  {
   "cell_type": "code",
   "execution_count": 30,
   "metadata": {},
   "outputs": [
    {
     "data": {
      "application/vnd.jupyter.widget-view+json": {
       "model_id": "e912083832c848309d1574272f75fa57",
       "version_major": 2,
       "version_minor": 0
      },
      "text/plain": [
       "Dropdown(description='Daytime/Evening Attendance', options=(('Daytime', 1), ('Evening', 0)), value=1)"
      ]
     },
     "metadata": {},
     "output_type": "display_data"
    }
   ],
   "source": [
    "x3 #Daytime or Evening Attendance"
   ]
  },
  {
   "cell_type": "code",
   "execution_count": 31,
   "metadata": {},
   "outputs": [
    {
     "data": {
      "application/vnd.jupyter.widget-view+json": {
       "model_id": "b4fa504a86474f8692cfa1ad8685528a",
       "version_major": 2,
       "version_minor": 0
      },
      "text/plain": [
       "Dropdown(description='Previous Qualification', options=(('Secondary Education', 1), ('Higher Education-Bachelo…"
      ]
     },
     "metadata": {},
     "output_type": "display_data"
    }
   ],
   "source": [
    "x4 #Previous Schooling Qualification"
   ]
  },
  {
   "cell_type": "code",
   "execution_count": 32,
   "metadata": {},
   "outputs": [
    {
     "data": {
      "application/vnd.jupyter.widget-view+json": {
       "model_id": "7237744332714953855c9c270ce37a9f",
       "version_major": 2,
       "version_minor": 0
      },
      "text/plain": [
       "Dropdown(description='Nationality', options=(('Portuguese', 1), ('German', 2), ('Spanish', 3), ('Italian', 4),…"
      ]
     },
     "metadata": {},
     "output_type": "display_data"
    }
   ],
   "source": [
    "x5 #Nationality"
   ]
  },
  {
   "cell_type": "code",
   "execution_count": 33,
   "metadata": {},
   "outputs": [
    {
     "data": {
      "application/vnd.jupyter.widget-view+json": {
       "model_id": "514faa815a8841e0b1d07fd4b2bf2171",
       "version_major": 2,
       "version_minor": 0
      },
      "text/plain": [
       "Dropdown(description='Mothers qualification', options=(('Secondary Education-12th Year of Schooling or Equival…"
      ]
     },
     "metadata": {},
     "output_type": "display_data"
    }
   ],
   "source": [
    "x6 #Mother's Qualification"
   ]
  },
  {
   "cell_type": "code",
   "execution_count": 34,
   "metadata": {},
   "outputs": [
    {
     "data": {
      "application/vnd.jupyter.widget-view+json": {
       "model_id": "012fcf1381f24bf6ae129132bfa123e6",
       "version_major": 2,
       "version_minor": 0
      },
      "text/plain": [
       "Dropdown(description='Fathers qualification', options=(('Secondary Education-12th Year of Schooling or Equival…"
      ]
     },
     "metadata": {},
     "output_type": "display_data"
    }
   ],
   "source": [
    "x7 #Father's Qualification"
   ]
  },
  {
   "cell_type": "code",
   "execution_count": 35,
   "metadata": {},
   "outputs": [
    {
     "data": {
      "application/vnd.jupyter.widget-view+json": {
       "model_id": "32a5029f0e8e45d98628a98131196c38",
       "version_major": 2,
       "version_minor": 0
      },
      "text/plain": [
       "Dropdown(description='Mothers Occupation', options=(('Student', 1), ('Representatives of the Legislative Power…"
      ]
     },
     "metadata": {},
     "output_type": "display_data"
    }
   ],
   "source": [
    "x8 #Mother's Occupation"
   ]
  },
  {
   "cell_type": "code",
   "execution_count": 36,
   "metadata": {},
   "outputs": [
    {
     "data": {
      "application/vnd.jupyter.widget-view+json": {
       "model_id": "1b59313de9d24a31a1d1a61f5a188d34",
       "version_major": 2,
       "version_minor": 0
      },
      "text/plain": [
       "Dropdown(description='Fathers Occupation', options=(('Student', 1), ('Representatives of the Legislative Power…"
      ]
     },
     "metadata": {},
     "output_type": "display_data"
    }
   ],
   "source": [
    "x9 #Father's Occupation"
   ]
  },
  {
   "cell_type": "code",
   "execution_count": 37,
   "metadata": {},
   "outputs": [
    {
     "data": {
      "application/vnd.jupyter.widget-view+json": {
       "model_id": "46e9ce12da224fc68bcb7dd78f06b59e",
       "version_major": 2,
       "version_minor": 0
      },
      "text/plain": [
       "Dropdown(description='Educational Special Needs', options=(('Yes', 1), ('No', 0)), value=1)"
      ]
     },
     "metadata": {},
     "output_type": "display_data"
    }
   ],
   "source": [
    "x10 #Educational Sepcial Needs"
   ]
  },
  {
   "cell_type": "code",
   "execution_count": 38,
   "metadata": {},
   "outputs": [
    {
     "data": {
      "application/vnd.jupyter.widget-view+json": {
       "model_id": "c13f858955fd4f66b88b3febbdcd923d",
       "version_major": 2,
       "version_minor": 0
      },
      "text/plain": [
       "Dropdown(description='Debtor', options=(('Yes', 1), ('No', 0)), value=1)"
      ]
     },
     "metadata": {},
     "output_type": "display_data"
    }
   ],
   "source": [
    "x11 #Debtor"
   ]
  },
  {
   "cell_type": "code",
   "execution_count": 39,
   "metadata": {},
   "outputs": [
    {
     "data": {
      "application/vnd.jupyter.widget-view+json": {
       "model_id": "2775eee21ffd4626847b6cd6574413db",
       "version_major": 2,
       "version_minor": 0
      },
      "text/plain": [
       "Dropdown(description='Tuition Fees up to Date', options=(('Yes', 1), ('No', 0)), value=1)"
      ]
     },
     "metadata": {},
     "output_type": "display_data"
    }
   ],
   "source": [
    "x12 #Tuition Fees up to Date"
   ]
  },
  {
   "cell_type": "code",
   "execution_count": 40,
   "metadata": {},
   "outputs": [
    {
     "data": {
      "application/vnd.jupyter.widget-view+json": {
       "model_id": "ea5d85b7af8543f0a4efcd5efef9e1fd",
       "version_major": 2,
       "version_minor": 0
      },
      "text/plain": [
       "Dropdown(description='Gender', options=(('Male', 1), ('Female', 0)), value=1)"
      ]
     },
     "metadata": {},
     "output_type": "display_data"
    }
   ],
   "source": [
    "x13 #Gender"
   ]
  },
  {
   "cell_type": "code",
   "execution_count": 41,
   "metadata": {},
   "outputs": [
    {
     "data": {
      "application/vnd.jupyter.widget-view+json": {
       "model_id": "be079c0b068d439985aa4472b219776b",
       "version_major": 2,
       "version_minor": 0
      },
      "text/plain": [
       "Dropdown(description='Scholarship Holder', options=(('Yes', 1), ('No', 0)), value=1)"
      ]
     },
     "metadata": {},
     "output_type": "display_data"
    }
   ],
   "source": [
    "x14 #Student has Scholarship"
   ]
  },
  {
   "cell_type": "code",
   "execution_count": 42,
   "metadata": {},
   "outputs": [
    {
     "data": {
      "application/vnd.jupyter.widget-view+json": {
       "model_id": "1a9c97277b7b4c26bc2603e8c22e3a13",
       "version_major": 2,
       "version_minor": 0
      },
      "text/plain": [
       "IntSlider(value=20, continuous_update=False, description='Age at Enrollment', max=70, min=17)"
      ]
     },
     "metadata": {},
     "output_type": "display_data"
    }
   ],
   "source": [
    "x15 #Age at Time of Enrollment"
   ]
  },
  {
   "cell_type": "code",
   "execution_count": 43,
   "metadata": {},
   "outputs": [
    {
     "data": {
      "application/vnd.jupyter.widget-view+json": {
       "model_id": "1d3fd2261ae74fb38ee5b5e01caafb2c",
       "version_major": 2,
       "version_minor": 0
      },
      "text/plain": [
       "Dropdown(description='International', options=(('Yes', 1), ('No', 0)), value=1)"
      ]
     },
     "metadata": {},
     "output_type": "display_data"
    }
   ],
   "source": [
    "x16 #International Student"
   ]
  },
  {
   "cell_type": "code",
   "execution_count": 44,
   "metadata": {},
   "outputs": [
    {
     "data": {
      "application/vnd.jupyter.widget-view+json": {
       "model_id": "c3bf8fabd54e45a5ac8abf34a1ae5907",
       "version_major": 2,
       "version_minor": 0
      },
      "text/plain": [
       "IntSlider(value=0, continuous_update=False, description='Curricular Units 1st Semester (Credited)', max=50)"
      ]
     },
     "metadata": {},
     "output_type": "display_data"
    }
   ],
   "source": [
    "x17 #Curricular Units During the 1st Semester that were Credited to the Student"
   ]
  },
  {
   "cell_type": "code",
   "execution_count": 45,
   "metadata": {},
   "outputs": [
    {
     "data": {
      "application/vnd.jupyter.widget-view+json": {
       "model_id": "ec828f862558492787ad5e0905a115d3",
       "version_major": 2,
       "version_minor": 0
      },
      "text/plain": [
       "IntSlider(value=0, continuous_update=False, description='Curricular Units 1st Semester (Enrolled)', max=50)"
      ]
     },
     "metadata": {},
     "output_type": "display_data"
    }
   ],
   "source": [
    "x18 #Curricular Units During the 1st Semester that the Student was Enrolled in"
   ]
  },
  {
   "cell_type": "code",
   "execution_count": 46,
   "metadata": {},
   "outputs": [
    {
     "data": {
      "application/vnd.jupyter.widget-view+json": {
       "model_id": "b8b97d189c8e40c798857d1206041c8b",
       "version_major": 2,
       "version_minor": 0
      },
      "text/plain": [
       "IntSlider(value=0, continuous_update=False, description='Curricular Units 1st Semester (Evaluations)', max=50)"
      ]
     },
     "metadata": {},
     "output_type": "display_data"
    }
   ],
   "source": [
    "x19 #Curricular Units During the 1st Semester that the Student was Evaluated for"
   ]
  },
  {
   "cell_type": "code",
   "execution_count": 47,
   "metadata": {},
   "outputs": [
    {
     "data": {
      "application/vnd.jupyter.widget-view+json": {
       "model_id": "2909879259294b0eb8fb27fceb553187",
       "version_major": 2,
       "version_minor": 0
      },
      "text/plain": [
       "IntSlider(value=0, continuous_update=False, description='Curricular Units 1st Semester (Approved)', max=50)"
      ]
     },
     "metadata": {},
     "output_type": "display_data"
    }
   ],
   "source": [
    "x20 #Curricular Units During the 1st Semester that the Student had Approved"
   ]
  },
  {
   "cell_type": "code",
   "execution_count": 48,
   "metadata": {},
   "outputs": [
    {
     "data": {
      "application/vnd.jupyter.widget-view+json": {
       "model_id": "68b2cd7583334b38b052fcca3a5049f7",
       "version_major": 2,
       "version_minor": 0
      },
      "text/plain": [
       "FloatSlider(value=10.0, continuous_update=False, description='Curricular Units 1st Semester (Grade)', max=20.0…"
      ]
     },
     "metadata": {},
     "output_type": "display_data"
    }
   ],
   "source": [
    "x21 #Student Grade (on a scale from 0.0 to 20.0) During the 1st Semester"
   ]
  },
  {
   "cell_type": "code",
   "execution_count": 49,
   "metadata": {},
   "outputs": [
    {
     "data": {
      "application/vnd.jupyter.widget-view+json": {
       "model_id": "b5e58a39994a461cac401ebd9cd757fd",
       "version_major": 2,
       "version_minor": 0
      },
      "text/plain": [
       "IntSlider(value=0, continuous_update=False, description='Curricular Units 1st Semester (Without Evaluations)',…"
      ]
     },
     "metadata": {},
     "output_type": "display_data"
    }
   ],
   "source": [
    "x22 #Curricular Units During the 1st Semester that the Student was Not Evaluated for"
   ]
  },
  {
   "cell_type": "code",
   "execution_count": 50,
   "metadata": {},
   "outputs": [
    {
     "data": {
      "application/vnd.jupyter.widget-view+json": {
       "model_id": "e5681581b1044f55b91d3c253a23854c",
       "version_major": 2,
       "version_minor": 0
      },
      "text/plain": [
       "IntSlider(value=0, continuous_update=False, description='Curricular Units 2nd Semester (Credited)', max=50)"
      ]
     },
     "metadata": {},
     "output_type": "display_data"
    }
   ],
   "source": [
    "x23 #Curricular Units During the 2nd Semester that were Credited to the Student"
   ]
  },
  {
   "cell_type": "code",
   "execution_count": 51,
   "metadata": {
    "scrolled": false
   },
   "outputs": [
    {
     "data": {
      "application/vnd.jupyter.widget-view+json": {
       "model_id": "32e3275222334201ae0818aaa69f762a",
       "version_major": 2,
       "version_minor": 0
      },
      "text/plain": [
       "IntSlider(value=0, continuous_update=False, description='Curricular Units 2nd Semester (Enrolled)', max=50)"
      ]
     },
     "metadata": {},
     "output_type": "display_data"
    }
   ],
   "source": [
    "x24 #Curricular Units During the 2nd Semester that the Student was Enrolled in"
   ]
  },
  {
   "cell_type": "code",
   "execution_count": 52,
   "metadata": {},
   "outputs": [
    {
     "data": {
      "application/vnd.jupyter.widget-view+json": {
       "model_id": "02e4e6b14ef34b86befd5a4e30f796cb",
       "version_major": 2,
       "version_minor": 0
      },
      "text/plain": [
       "IntSlider(value=0, continuous_update=False, description='Curricular Units 2nd Semester (Evaluations)', max=50)"
      ]
     },
     "metadata": {},
     "output_type": "display_data"
    }
   ],
   "source": [
    "x25 #Curricular Units During the 2nd Semester that the Student was Evaluated for"
   ]
  },
  {
   "cell_type": "code",
   "execution_count": 53,
   "metadata": {},
   "outputs": [
    {
     "data": {
      "application/vnd.jupyter.widget-view+json": {
       "model_id": "092b73e987104092bec72c5ca8d20775",
       "version_major": 2,
       "version_minor": 0
      },
      "text/plain": [
       "IntSlider(value=0, continuous_update=False, description='Curricular Units 2nd Semester (Approved)', max=50)"
      ]
     },
     "metadata": {},
     "output_type": "display_data"
    }
   ],
   "source": [
    "x26 #Curricular Units During the 2nd Semester that the Student had Approved"
   ]
  },
  {
   "cell_type": "code",
   "execution_count": 54,
   "metadata": {},
   "outputs": [
    {
     "data": {
      "application/vnd.jupyter.widget-view+json": {
       "model_id": "001f0c58238441b19d72cdfea8622f7f",
       "version_major": 2,
       "version_minor": 0
      },
      "text/plain": [
       "FloatSlider(value=10.0, continuous_update=False, description='Curricular Units 2nd Semester (Grade)', max=20.0…"
      ]
     },
     "metadata": {},
     "output_type": "display_data"
    }
   ],
   "source": [
    "x27 #Student Grade (on a scale from 0.0 to 20.0) During the 2nd Semester"
   ]
  },
  {
   "cell_type": "code",
   "execution_count": 55,
   "metadata": {},
   "outputs": [
    {
     "data": {
      "application/vnd.jupyter.widget-view+json": {
       "model_id": "7e54e8ebb3d74e5f9ba84b211d54b2d2",
       "version_major": 2,
       "version_minor": 0
      },
      "text/plain": [
       "IntSlider(value=0, continuous_update=False, description='Curricular Units 2nd Semester (Without Evaluations)',…"
      ]
     },
     "metadata": {},
     "output_type": "display_data"
    }
   ],
   "source": [
    "x28 #Curricular Units During the 2nd Semester that the Student was Not Evaluated for"
   ]
  },
  {
   "cell_type": "code",
   "execution_count": 56,
   "metadata": {},
   "outputs": [
    {
     "data": {
      "application/vnd.jupyter.widget-view+json": {
       "model_id": "080b73aa48414871b4edf43a4d018d7e",
       "version_major": 2,
       "version_minor": 0
      },
      "text/plain": [
       "FloatSlider(value=10.0, continuous_update=False, description='Unemployment Rate', max=20.0, readout_format='.1…"
      ]
     },
     "metadata": {},
     "output_type": "display_data"
    }
   ],
   "source": [
    "x29 #Unemployment Rate of the Economy"
   ]
  },
  {
   "cell_type": "code",
   "execution_count": 57,
   "metadata": {
    "scrolled": true
   },
   "outputs": [
    {
     "data": {
      "application/vnd.jupyter.widget-view+json": {
       "model_id": "45428292fd04473bb846cb12c43456d4",
       "version_major": 2,
       "version_minor": 0
      },
      "text/plain": [
       "FloatSlider(value=0.0, continuous_update=False, description='Inflation Rate', max=5.0, min=-2.0, readout_forma…"
      ]
     },
     "metadata": {},
     "output_type": "display_data"
    }
   ],
   "source": [
    "x30 #Inflation Rate of the Economy"
   ]
  },
  {
   "cell_type": "code",
   "execution_count": 58,
   "metadata": {},
   "outputs": [
    {
     "data": {
      "application/vnd.jupyter.widget-view+json": {
       "model_id": "6ed52f8aa4cd4fca95c139f20dc3fa45",
       "version_major": 2,
       "version_minor": 0
      },
      "text/plain": [
       "FloatSlider(value=0.0, continuous_update=False, description='GDP', max=5.0, min=-5.0, readout_format='.1f')"
      ]
     },
     "metadata": {},
     "output_type": "display_data"
    }
   ],
   "source": [
    "x31 #GDP of the Economy"
   ]
  },
  {
   "cell_type": "markdown",
   "metadata": {},
   "source": [
    "## <font color='red'>When Finished Answering the Prompts Above,</font>\n",
    "##  <font color='red'>Please Run the Cell Below for the Prediction</font>"
   ]
  },
  {
   "cell_type": "code",
   "execution_count": 59,
   "metadata": {},
   "outputs": [
    {
     "name": "stdout",
     "output_type": "stream",
     "text": [
      "This student likely graduated from school.\n"
     ]
    }
   ],
   "source": [
    "prediction = logmodel.predict([[x0.value,x1.value,x2.value,x3.value,x4.value,x5.value,x6.value,x7.value,x8.value,x9.value,\n",
    "                                x10.value,x11.value,x12.value,x13.value,x14.value,x15.value,x16.value,x17.value,x18.value,\n",
    "                                x19.value,x20.value,x21.value,x22.value,x23.value,x24.value,x25.value,x26.value,x27.value,\n",
    "                                x28.value,x29.value,x30.value,x31.value]])\n",
    "if prediction == [0]:\n",
    "    prediction = 'dropped out of school.'\n",
    "else:\n",
    "    prediction = 'graduated from school.'\n",
    "\n",
    "print('This student likely', prediction)"
   ]
  },
  {
   "cell_type": "code",
   "execution_count": null,
   "metadata": {},
   "outputs": [],
   "source": []
  }
 ],
 "metadata": {
  "kernelspec": {
   "display_name": "Python 3 (ipykernel)",
   "language": "python",
   "name": "python3"
  },
  "language_info": {
   "codemirror_mode": {
    "name": "ipython",
    "version": 3
   },
   "file_extension": ".py",
   "mimetype": "text/x-python",
   "name": "python",
   "nbconvert_exporter": "python",
   "pygments_lexer": "ipython3",
   "version": "3.9.13"
  }
 },
 "nbformat": 4,
 "nbformat_minor": 4
}
